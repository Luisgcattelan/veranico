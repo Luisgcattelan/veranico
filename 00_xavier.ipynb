{
 "cells": [
  {
   "cell_type": "code",
   "execution_count": 4,
   "metadata": {},
   "outputs": [],
   "source": [
    "import matplotlib.pyplot as plt\n",
    "import numpy as np\n",
    "import pandas as pd\n",
    "import os\n",
    "from glob import glob\n",
    "import seaborn as sns\n",
    "import geopandas as gpd\n",
    "import xarray as xr\n",
    "import wget\n"
   ]
  },
  {
   "cell_type": "markdown",
   "metadata": {},
   "source": [
    "# clean"
   ]
  },
  {
   "cell_type": "code",
   "execution_count": 5,
   "metadata": {},
   "outputs": [],
   "source": [
    "lat_min = -25\n",
    "lat_max = -2\n",
    "lon_min = -61\n",
    "lon_max = -42\n",
    "date_start= '1981-01-01'\n",
    "date_end = '2020-12-31'\n"
   ]
  },
  {
   "cell_type": "code",
   "execution_count": 6,
   "metadata": {},
   "outputs": [],
   "source": [
    "# Specify the path to the folder containing the NetCDF files\n",
    "folder_path = r\"E:\\Veranico_HD\\raw_datasets\\xavier\"\n",
    "# Open and concatenate all the NetCDF files\n",
    "ds = xr.open_mfdataset(os.path.join(folder_path, '*.nc'), combine='by_coords')\n",
    "ds = ds.rename({'latitude': 'lat', 'longitude': 'lon'})\n",
    "xavier = ds.sel(lat=slice(lat_min, lat_max), lon=slice(lon_min, lon_max), time=slice(date_start, date_end))\n",
    "xavier.to_netcdf(r'E:\\Veranico_HD\\clean_cerrado\\xavier.nc')"
   ]
  },
  {
   "cell_type": "markdown",
   "metadata": {},
   "source": [
    "# CDD"
   ]
  },
  {
   "cell_type": "code",
   "execution_count": 8,
   "metadata": {},
   "outputs": [
    {
     "name": "stderr",
     "output_type": "stream",
     "text": [
      "d:\\GU\\IC\\Veranico\\funcs.py:25: FutureWarning: ``output_sizes`` should be given in the ``dask_gufunc_kwargs`` parameter. It will be removed as direct parameter in a future version.\n",
      "  daa = xr.apply_ufunc(\n"
     ]
    }
   ],
   "source": [
    "from funcs import *\n",
    "cdd = cdd_numba(xavier.pr)\n",
    "cdd.to_netcdf(r\"D:\\GU\\IC\\Veranico\\daily_datasets\\CDD\\xavier.nc\")"
   ]
  }
 ],
 "metadata": {
  "kernelspec": {
   "display_name": "geo_env",
   "language": "python",
   "name": "python3"
  },
  "language_info": {
   "codemirror_mode": {
    "name": "ipython",
    "version": 3
   },
   "file_extension": ".py",
   "mimetype": "text/x-python",
   "name": "python",
   "nbconvert_exporter": "python",
   "pygments_lexer": "ipython3",
   "version": "3.10.6"
  },
  "orig_nbformat": 4
 },
 "nbformat": 4,
 "nbformat_minor": 2
}
